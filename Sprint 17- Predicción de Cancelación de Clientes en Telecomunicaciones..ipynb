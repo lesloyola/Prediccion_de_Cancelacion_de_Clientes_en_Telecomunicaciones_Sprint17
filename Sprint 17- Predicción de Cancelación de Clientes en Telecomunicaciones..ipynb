{
 "cells": [
  {
   "cell_type": "markdown",
   "metadata": {},
   "source": [
    "# <font color='#0000CD'>Predicción de Cancelación de Clientes en Telecomunicaciones</font>\n"
   ]
  },
  {
   "cell_type": "markdown",
   "metadata": {},
   "source": [
    "# <font color='#3CB371'>Plan de trabajo</font>"
   ]
  },
  {
   "cell_type": "markdown",
   "metadata": {},
   "source": [
    "## Introducción"
   ]
  },
  {
   "cell_type": "markdown",
   "metadata": {},
   "source": [
    "El objetivo de este proyecto es predecir si un cliente planea cancelar su contrato con una empresa de telecomunicaciones (“churn”). Este análisis permitirá al equipo de marketing tomar decisiones basadas en datos, como ofrecer promociones para retener clientes.\n",
    "\n",
    "En esta fase inicial, realizaremos un análisis exploratorio de los datos proporcionados para identificar patrones, problemas y formular preguntas clave que orienten el desarrollo del modelo predictivo. El resultado será un plan claro y estructurado para resolver la tarea de manera eficiente."
   ]
  },
  {
   "cell_type": "markdown",
   "metadata": {},
   "source": [
    "##  Análisis Exploratorio Inicial"
   ]
  },
  {
   "cell_type": "markdown",
   "metadata": {},
   "source": [
    "**Los datos disponibles se encuentran en los siguientes archivos:**\n",
    " \n",
    "- <font color='#00008B'>**contract.csv:**</font> Información del contrato del cliente (duración del contrato, tipo de pago, etc.).\n",
    "  \n",
    "- <font color='#00008B'>**personal.csv:**</font> Datos personales del cliente (edad, género, etc.).\n",
    "  \n",
    "- <font color='#00008B'>**internet.csv:**</font> Servicios de internet contratados.\n",
    "  \n",
    "- <font color='#00008B'>**phone.csv:**</font> Servicios telefónicos contratados."
   ]
  },
  {
   "cell_type": "markdown",
   "metadata": {},
   "source": [
    "**Aspectos clave a revisar:**\n",
    "<ol>\n",
    "<li>Combinación de los archivos utilizando la columna customerID como identificador único.</li>\n",
    "  \n",
    "<li>Detectar y manejar valores faltantes.</li>\n",
    "  \n",
    "<li>Identificar el tipo de datos (numéricos o categóricos).</li>\n",
    "  \n",
    "<li>Analizar distribuciones y patrones en las variables más relevantes.</li>\n",
    "  \n",
    "<li>Analizar el balance de la variable objetivo (churn) para determinar si se requieren técnicas de balanceo como oversampling o undersampling.</li>"
   ]
  },
  {
   "cell_type": "markdown",
   "metadata": {},
   "source": [
    "## Preguntas Aclaratorias"
   ]
  },
  {
   "cell_type": "markdown",
   "metadata": {},
   "source": [
    "<ol>\n",
    "<li>¿Qué otras métricas, además de AUC-ROC, son importantes para el negocio?</li>\n",
    "\n",
    "<li>¿Cómo se deben manejar los valores faltantes? ¿Existen reglas establecidas o preferencia por algún método?</li>\n",
    "\n",
    "<li>¿Hay restricciones de tiempo o recursos para el desarrollo del modelo?</li>\n",
    "\n",
    "<li>¿Se deben priorizar algunas variables específicas (por ejemplo, tipo de contrato o servicios contratados)?</li>\n",
    "\n",
    "<li>¿Cómo se debe documentar el proceso para que sea comprensible para otros equipos?</li>\n",
    "    \n",
    "<li>¿Qué nivel de precisión espera el negocio para el modelo predictivo?</li>\n",
    "    \n",
    "<li>¿Qué frecuencia se espera para actualizar este modelo?</li>\n",
    "    \n",
    "<li>¿Cuáles son las expectativas en cuanto al balanceo de clases y la interpretabilidad del modelo?</li>\n",
    "\n",
    "<li>¿Es necesario incluir pruebas de cordura (como un DummyClassifier) en la evaluación del modelo?</li>"
   ]
  },
  {
   "cell_type": "markdown",
   "metadata": {},
   "source": [
    "## Plan Aproximado"
   ]
  },
  {
   "cell_type": "markdown",
   "metadata": {},
   "source": [
    "<ol>\n",
    "\n",
    "<font color='#C71585'>**<li>Primer Paso: Inspección y carga de datos.</li>**</font>\n",
    "\n",
    "- Leer los archivos proporcionados.\n",
    "\n",
    "- Combinarlos utilizando customerID como clave principal.\n",
    "\n",
    "- Verificar integridad y ausencia de duplicados.\n",
    "    \n",
    "\n",
    "<font color='#C71585'>**<li>Segundo Paso: Limpieza y preprocesamiento.</li>**</font>\n",
    "\n",
    "- Manejar valores faltantes: eliminar, imputar o categorizar según el contexto.\n",
    "\n",
    "- Codificar variables categóricas en formatos compatibles con los modelos de machine learning.\n",
    "    \n",
    "\n",
    "<font color='#C71585'>**<li>Tercer Paso: Exploración de datos.</li>**</font>\n",
    "\n",
    "\n",
    "- Analizar la distribución de las variables.\n",
    "\n",
    "- Identificar correlaciones entre las variables y la variable objetivo (EndDate).\n",
    "\n",
    "- Detectar outliers y decidir su tratamiento.\n",
    "    \n",
    "- Generar visualizaciones que expliquen las variables clave y redactar conclusiones claras.\n",
    "    \n",
    "\n",
    "<font color='#C71585'>**<li>Cuarto Paso: Modelado.</li>**</font>\n",
    "\n",
    "- Dividir los datos en 3 conjuntos: entrenamiento, validación y prueba.\n",
    "\n",
    "- Entrenar diferentes modelos de machine learning (logística, árboles de decisión, random forest, etc.).\n",
    "\n",
    "- Evaluar cada modelo usando la métrica AUC-ROC.\n",
    "    \n",
    "- Realizar pruebas de cordura con un DummyClassifier para establecer un baseline.\n",
    "    \n",
    "\n",
    "<font color='#C71585'>**<li>Quinto Paso: Selección del modelo final.</li>**</font>\n",
    "\n",
    "- Comparar el rendimiento de los modelos.\n",
    "\n",
    "- Seleccionar el modelo con mejor AUC-ROC y justificar la elección.\n",
    "    \n",
    "<font color='#C71585'>**<li>Sexto Paso: Revisión de compatibilidad.</li>**</font>\n",
    "\n",
    "- Incluir una celda en el notebook para verificar versiones de librerías como pandas, numpy, y sklearn para garantizar compatibilidad durante la revisión.\n"
   ]
  },
  {
   "cell_type": "markdown",
   "metadata": {},
   "source": [
    "## Conclusión"
   ]
  },
  {
   "cell_type": "markdown",
   "metadata": {},
   "source": [
    "Este plan establece las bases para el análisis y desarrollo del modelo predictivo. Una vez completado el análisis exploratorio y respondidas las preguntas, estaremos listos para comenzar con la limpieza de datos, el modelado y la evaluación. El resultado final buscará cumplir con el objetivo del proyecto y las métricas requeridas por el equipo."
   ]
  },
  {
   "cell_type": "markdown",
   "metadata": {},
   "source": [
    "# <font color='#3CB371'>Código de solución</font>"
   ]
  },
  {
   "cell_type": "code",
   "execution_count": 14,
   "metadata": {},
   "outputs": [],
   "source": [
    "# --- 1. Importar Librerías ---\n",
    "import pandas as pd\n",
    "import numpy as np\n",
    "import matplotlib.pyplot as plt\n",
    "import seaborn as sns\n",
    "from sklearn.model_selection import train_test_split\n",
    "from sklearn.preprocessing import StandardScaler, LabelEncoder\n",
    "from sklearn.ensemble import RandomForestClassifier\n",
    "from sklearn.linear_model import LogisticRegression\n",
    "from sklearn.metrics import roc_auc_score, f1_score, confusion_matrix, classification_report\n",
    "from sklearn.dummy import DummyClassifier\n",
    "import zipfile\n",
    "import os\n",
    "import glob"
   ]
  },
  {
   "cell_type": "code",
   "execution_count": 15,
   "metadata": {},
   "outputs": [
    {
     "name": "stdout",
     "output_type": "stream",
     "text": [
      "Versión de pandas: 1.2.4\n",
      "Versión de numpy: 1.21.2\n"
     ]
    }
   ],
   "source": [
    "# Verificar versiones de librerías\n",
    "print(f\"Versión de pandas: {pd.__version__}\")\n",
    "print(f\"Versión de numpy: {np.__version__}\")"
   ]
  },
  {
   "cell_type": "code",
   "execution_count": 18,
   "metadata": {},
   "outputs": [],
   "source": [
    "# --- 2. Carga de Datos ---\n",
    "# Ruta de la carpeta donde están los datos\n",
    "data_path = '/datasets/final_provider/'\n",
    "\n",
    "# Cargar los archivos desde la carpeta\n",
    "contract = pd.read_csv(data_path + 'contract.csv')\n",
    "personal = pd.read_csv(data_path + 'personal.csv')\n",
    "internet = pd.read_csv(data_path + 'internet.csv')\n",
    "phone = pd.read_csv(data_path + 'phone.csv')"
   ]
  },
  {
   "cell_type": "code",
   "execution_count": 19,
   "metadata": {},
   "outputs": [
    {
     "name": "stdout",
     "output_type": "stream",
     "text": [
      "Datos combinados:\n",
      "   customerID   BeginDate              EndDate            Type  \\\n",
      "0  7590-VHVEG  2020-01-01                   No  Month-to-month   \n",
      "1  5575-GNVDE  2017-04-01                   No        One year   \n",
      "2  3668-QPYBK  2019-10-01  2019-12-01 00:00:00  Month-to-month   \n",
      "3  7795-CFOCW  2016-05-01                   No        One year   \n",
      "4  9237-HQITU  2019-09-01  2019-11-01 00:00:00  Month-to-month   \n",
      "\n",
      "  PaperlessBilling              PaymentMethod  MonthlyCharges TotalCharges  \\\n",
      "0              Yes           Electronic check           29.85        29.85   \n",
      "1               No               Mailed check           56.95       1889.5   \n",
      "2              Yes               Mailed check           53.85       108.15   \n",
      "3               No  Bank transfer (automatic)           42.30      1840.75   \n",
      "4              Yes           Electronic check           70.70       151.65   \n",
      "\n",
      "   gender  SeniorCitizen Partner Dependents InternetService OnlineSecurity  \\\n",
      "0  Female              0     Yes         No             DSL             No   \n",
      "1    Male              0      No         No             DSL            Yes   \n",
      "2    Male              0      No         No             DSL            Yes   \n",
      "3    Male              0      No         No             DSL            Yes   \n",
      "4  Female              0      No         No     Fiber optic             No   \n",
      "\n",
      "  OnlineBackup DeviceProtection TechSupport StreamingTV StreamingMovies  \\\n",
      "0          Yes               No          No          No              No   \n",
      "1           No              Yes          No          No              No   \n",
      "2          Yes               No          No          No              No   \n",
      "3           No              Yes         Yes          No              No   \n",
      "4           No               No          No          No              No   \n",
      "\n",
      "  MultipleLines  \n",
      "0           NaN  \n",
      "1            No  \n",
      "2            No  \n",
      "3           NaN  \n",
      "4            No  \n",
      "<class 'pandas.core.frame.DataFrame'>\n",
      "Int64Index: 7043 entries, 0 to 7042\n",
      "Data columns (total 20 columns):\n",
      " #   Column            Non-Null Count  Dtype  \n",
      "---  ------            --------------  -----  \n",
      " 0   customerID        7043 non-null   object \n",
      " 1   BeginDate         7043 non-null   object \n",
      " 2   EndDate           7043 non-null   object \n",
      " 3   Type              7043 non-null   object \n",
      " 4   PaperlessBilling  7043 non-null   object \n",
      " 5   PaymentMethod     7043 non-null   object \n",
      " 6   MonthlyCharges    7043 non-null   float64\n",
      " 7   TotalCharges      7043 non-null   object \n",
      " 8   gender            7043 non-null   object \n",
      " 9   SeniorCitizen     7043 non-null   int64  \n",
      " 10  Partner           7043 non-null   object \n",
      " 11  Dependents        7043 non-null   object \n",
      " 12  InternetService   5517 non-null   object \n",
      " 13  OnlineSecurity    5517 non-null   object \n",
      " 14  OnlineBackup      5517 non-null   object \n",
      " 15  DeviceProtection  5517 non-null   object \n",
      " 16  TechSupport       5517 non-null   object \n",
      " 17  StreamingTV       5517 non-null   object \n",
      " 18  StreamingMovies   5517 non-null   object \n",
      " 19  MultipleLines     6361 non-null   object \n",
      "dtypes: float64(1), int64(1), object(18)\n",
      "memory usage: 1.1+ MB\n",
      "None\n"
     ]
    }
   ],
   "source": [
    "# Combinar los archivos usando customerID\n",
    "merged_data = contract.merge(personal, on='customerID', how='left') \\\n",
    "                      .merge(internet, on='customerID', how='left') \\\n",
    "                      .merge(phone, on='customerID', how='left')\n",
    "\n",
    "# Vista rápida de los datos combinados\n",
    "print(\"Datos combinados:\")\n",
    "print(merged_data.head())\n",
    "print(merged_data.info())"
   ]
  },
  {
   "cell_type": "code",
   "execution_count": 20,
   "metadata": {},
   "outputs": [
    {
     "name": "stdout",
     "output_type": "stream",
     "text": [
      "Valores faltantes en TotalCharges después de conversión: 11\n"
     ]
    }
   ],
   "source": [
    "# --- 3. Limpieza y Preprocesamiento ---\n",
    "# Convertir TotalCharges a float y manejar valores inválidos\n",
    "merged_data['TotalCharges'] = pd.to_numeric(merged_data['TotalCharges'], errors='coerce')\n",
    "print(\"Valores faltantes en TotalCharges después de conversión:\", merged_data['TotalCharges'].isnull().sum())"
   ]
  },
  {
   "cell_type": "code",
   "execution_count": 21,
   "metadata": {},
   "outputs": [],
   "source": [
    "# Rellenar valores faltantes en TotalCharges con 0\n",
    "merged_data['TotalCharges'].fillna(0, inplace=True)"
   ]
  },
  {
   "cell_type": "code",
   "execution_count": 22,
   "metadata": {},
   "outputs": [],
   "source": [
    "# Crear variable objetivo 'churn' basada en EndDate\n",
    "merged_data['churn'] = (merged_data['EndDate'] != 'No').astype(int)"
   ]
  },
  {
   "cell_type": "code",
   "execution_count": 23,
   "metadata": {},
   "outputs": [],
   "source": [
    "# Rellenar valores faltantes en columnas categóricas con 'No'\n",
    "cols_to_fill = ['InternetService', 'OnlineSecurity', 'OnlineBackup', 'DeviceProtection',\n",
    "                'TechSupport', 'StreamingTV', 'StreamingMovies', 'MultipleLines']\n",
    "for col in cols_to_fill:\n",
    "    merged_data[col].fillna('No', inplace=True)"
   ]
  },
  {
   "cell_type": "code",
   "execution_count": 24,
   "metadata": {},
   "outputs": [],
   "source": [
    "# Codificar variables categóricas usando LabelEncoder\n",
    "categorical_columns = ['gender', 'Partner', 'Dependents', 'InternetService', 'OnlineSecurity',\n",
    "                       'OnlineBackup', 'DeviceProtection', 'TechSupport', 'StreamingTV',\n",
    "                       'StreamingMovies', 'MultipleLines', 'Type', 'PaperlessBilling', 'PaymentMethod']\n",
    "encoder = LabelEncoder()\n",
    "for col in categorical_columns:\n",
    "    merged_data[col] = encoder.fit_transform(merged_data[col])"
   ]
  },
  {
   "cell_type": "code",
   "execution_count": 25,
   "metadata": {},
   "outputs": [],
   "source": [
    "# Escalar columnas numéricas\n",
    "scaler = StandardScaler()\n",
    "numeric_columns = ['MonthlyCharges', 'TotalCharges']\n",
    "merged_data[numeric_columns] = scaler.fit_transform(merged_data[numeric_columns])"
   ]
  },
  {
   "cell_type": "code",
   "execution_count": 26,
   "metadata": {},
   "outputs": [
    {
     "name": "stdout",
     "output_type": "stream",
     "text": [
      "Datos limpios:\n",
      "   customerID   BeginDate              EndDate  Type  PaperlessBilling  \\\n",
      "0  7590-VHVEG  2020-01-01                   No     0                 1   \n",
      "1  5575-GNVDE  2017-04-01                   No     1                 0   \n",
      "2  3668-QPYBK  2019-10-01  2019-12-01 00:00:00     0                 1   \n",
      "3  7795-CFOCW  2016-05-01                   No     1                 0   \n",
      "4  9237-HQITU  2019-09-01  2019-11-01 00:00:00     0                 1   \n",
      "\n",
      "   PaymentMethod  MonthlyCharges  TotalCharges  gender  SeniorCitizen  ...  \\\n",
      "0              2       -1.160323     -0.992611       0              0  ...   \n",
      "1              3       -0.259629     -0.172165       1              0  ...   \n",
      "2              3       -0.362660     -0.958066       1              0  ...   \n",
      "3              0       -0.746535     -0.193672       1              0  ...   \n",
      "4              2        0.197365     -0.938874       0              0  ...   \n",
      "\n",
      "   Dependents  InternetService  OnlineSecurity  OnlineBackup  \\\n",
      "0           0                0               0             1   \n",
      "1           0                0               1             0   \n",
      "2           0                0               1             1   \n",
      "3           0                0               1             0   \n",
      "4           0                1               0             0   \n",
      "\n",
      "   DeviceProtection  TechSupport  StreamingTV  StreamingMovies  MultipleLines  \\\n",
      "0                 0            0            0                0              0   \n",
      "1                 1            0            0                0              0   \n",
      "2                 0            0            0                0              0   \n",
      "3                 1            1            0                0              0   \n",
      "4                 0            0            0                0              0   \n",
      "\n",
      "   churn  \n",
      "0      0  \n",
      "1      0  \n",
      "2      1  \n",
      "3      0  \n",
      "4      1  \n",
      "\n",
      "[5 rows x 21 columns]\n",
      "<class 'pandas.core.frame.DataFrame'>\n",
      "Int64Index: 7043 entries, 0 to 7042\n",
      "Data columns (total 21 columns):\n",
      " #   Column            Non-Null Count  Dtype  \n",
      "---  ------            --------------  -----  \n",
      " 0   customerID        7043 non-null   object \n",
      " 1   BeginDate         7043 non-null   object \n",
      " 2   EndDate           7043 non-null   object \n",
      " 3   Type              7043 non-null   int64  \n",
      " 4   PaperlessBilling  7043 non-null   int64  \n",
      " 5   PaymentMethod     7043 non-null   int64  \n",
      " 6   MonthlyCharges    7043 non-null   float64\n",
      " 7   TotalCharges      7043 non-null   float64\n",
      " 8   gender            7043 non-null   int64  \n",
      " 9   SeniorCitizen     7043 non-null   int64  \n",
      " 10  Partner           7043 non-null   int64  \n",
      " 11  Dependents        7043 non-null   int64  \n",
      " 12  InternetService   7043 non-null   int64  \n",
      " 13  OnlineSecurity    7043 non-null   int64  \n",
      " 14  OnlineBackup      7043 non-null   int64  \n",
      " 15  DeviceProtection  7043 non-null   int64  \n",
      " 16  TechSupport       7043 non-null   int64  \n",
      " 17  StreamingTV       7043 non-null   int64  \n",
      " 18  StreamingMovies   7043 non-null   int64  \n",
      " 19  MultipleLines     7043 non-null   int64  \n",
      " 20  churn             7043 non-null   int64  \n",
      "dtypes: float64(2), int64(16), object(3)\n",
      "memory usage: 1.2+ MB\n",
      "None\n"
     ]
    }
   ],
   "source": [
    "# Vista rápida de los datos limpios\n",
    "print(\"Datos limpios:\")\n",
    "print(merged_data.head())\n",
    "print(merged_data.info())"
   ]
  },
  {
   "cell_type": "code",
   "execution_count": 27,
   "metadata": {},
   "outputs": [
    {
     "data": {
      "image/png": "[encoded data removed]",
      "text/plain": [
       "<Figure size 640x480 with 1 Axes>"
      ]
     },
     "metadata": {},
     "output_type": "display_data"
    }
   ],
   "source": [
    "# --- 4. Exploración de Datos ---\n",
    "# Análisis del balance de clases\n",
    "sns.countplot(x='churn', data=merged_data)\n",
    "plt.title(\"Distribución de Churn\")\n",
    "plt.show()"
   ]
  },
  {
   "cell_type": "code",
   "execution_count": 28,
   "metadata": {},
   "outputs": [
    {
     "data": {
      "image/png": "[encoded data removed]",
      "text/plain": [
       "<Figure size 1200x800 with 2 Axes>"
      ]
     },
     "metadata": {},
     "output_type": "display_data"
    }
   ],
   "source": [
    "# Correlación entre variables\n",
    "plt.figure(figsize=(12, 8))\n",
    "sns.heatmap(merged_data.corr(), annot=False, cmap='coolwarm')\n",
    "plt.title(\"Matriz de Correlación\")\n",
    "plt.show()"
   ]
  },
  {
   "cell_type": "code",
   "execution_count": 29,
   "metadata": {},
   "outputs": [],
   "source": [
    "# --- 5. División de Datos ---\n",
    "X = merged_data.drop(columns=['churn', 'customerID', 'BeginDate', 'EndDate'])\n",
    "y = merged_data['churn']"
   ]
  },
  {
   "cell_type": "code",
   "execution_count": 30,
   "metadata": {},
   "outputs": [],
   "source": [
    "# Dividir en entrenamiento, validación y prueba\n",
    "X_train, X_temp, y_train, y_temp = train_test_split(X, y, test_size=0.3, random_state=42, stratify=y)\n",
    "X_val, X_test, y_val, y_test = train_test_split(X_temp, y_temp, test_size=0.5, random_state=42, stratify=y_temp)"
   ]
  },
  {
   "cell_type": "code",
   "execution_count": 31,
   "metadata": {},
   "outputs": [],
   "source": [
    "# Escalado de datos\n",
    "scaler = StandardScaler()\n",
    "X_train = scaler.fit_transform(X_train)\n",
    "X_val = scaler.transform(X_val)\n",
    "X_test = scaler.transform(X_test)"
   ]
  },
  {
   "cell_type": "code",
   "execution_count": 33,
   "metadata": {},
   "outputs": [
    {
     "name": "stdout",
     "output_type": "stream",
     "text": [
      "DummyClassifier Report:\n",
      "              precision    recall  f1-score   support\n",
      "\n",
      "           0       0.73      1.00      0.85       776\n",
      "           1       0.00      0.00      0.00       280\n",
      "\n",
      "    accuracy                           0.73      1056\n",
      "   macro avg       0.37      0.50      0.42      1056\n",
      "weighted avg       0.54      0.73      0.62      1056\n",
      "\n"
     ]
    }
   ],
   "source": [
    "# --- 6. Entrenamiento y Pruebas de Modelos ---\n",
    "# Modelo Dummy para baseline\n",
    "dummy = DummyClassifier(strategy='most_frequent')\n",
    "dummy.fit(X_train, y_train)\n",
    "dummy_preds = dummy.predict(X_val)\n",
    "print(\"DummyClassifier Report:\")\n",
    "print(classification_report(y_val, dummy_preds, zero_division=0))"
   ]
  },
  {
   "cell_type": "code",
   "execution_count": 34,
   "metadata": {},
   "outputs": [
    {
     "name": "stdout",
     "output_type": "stream",
     "text": [
      "AUC-ROC para Logistic Regression: 0.8259\n"
     ]
    }
   ],
   "source": [
    "# Modelo de Regresión Logística\n",
    "log_model = LogisticRegression(random_state=42)\n",
    "log_model.fit(X_train, y_train)\n",
    "log_preds = log_model.predict(X_val)\n",
    "log_auc = roc_auc_score(y_val, log_model.predict_proba(X_val)[:, 1])\n",
    "print(f\"AUC-ROC para Logistic Regression: {log_auc:.4f}\")"
   ]
  },
  {
   "cell_type": "code",
   "execution_count": 36,
   "metadata": {},
   "outputs": [
    {
     "name": "stdout",
     "output_type": "stream",
     "text": [
      "AUC-ROC para Random Forest: 0.8146\n"
     ]
    }
   ],
   "source": [
    "# Modelo Random Forest\n",
    "rf_model = RandomForestClassifier(random_state=42)\n",
    "rf_model.fit(X_train, y_train)\n",
    "rf_preds = rf_model.predict(X_val)\n",
    "rf_auc = roc_auc_score(y_val, rf_model.predict_proba(X_val)[:, 1])\n",
    "print(f\"AUC-ROC para Random Forest: {rf_auc:.4f}\")"
   ]
  },
  {
   "cell_type": "code",
   "execution_count": 37,
   "metadata": {},
   "outputs": [
    {
     "name": "stdout",
     "output_type": "stream",
     "text": [
      "Se selecciona Logistic Regression como el modelo final.\n"
     ]
    }
   ],
   "source": [
    "# --- 7. Selección del Modelo Final ---\n",
    "if rf_auc > log_auc:\n",
    "    final_model = rf_model\n",
    "    print(\"Se selecciona Random Forest como el modelo final.\")\n",
    "else:\n",
    "    final_model = log_model\n",
    "    print(\"Se selecciona Logistic Regression como el modelo final.\")"
   ]
  },
  {
   "cell_type": "code",
   "execution_count": 38,
   "metadata": {},
   "outputs": [
    {
     "name": "stdout",
     "output_type": "stream",
     "text": [
      "\n",
      "Evaluación Final:\n",
      "AUC-ROC en conjunto de prueba: 0.8284\n",
      "              precision    recall  f1-score   support\n",
      "\n",
      "           0       0.83      0.90      0.86       776\n",
      "           1       0.64      0.48      0.55       281\n",
      "\n",
      "    accuracy                           0.79      1057\n",
      "   macro avg       0.73      0.69      0.71      1057\n",
      "weighted avg       0.78      0.79      0.78      1057\n",
      "\n"
     ]
    }
   ],
   "source": [
    "# Evaluación en conjunto de prueba\n",
    "final_preds = final_model.predict(X_test)\n",
    "final_auc = roc_auc_score(y_test, final_model.predict_proba(X_test)[:, 1])\n",
    "print(\"\\nEvaluación Final:\")\n",
    "print(f\"AUC-ROC en conjunto de prueba: {final_auc:.4f}\")\n",
    "print(classification_report(y_test, final_preds))"
   ]
  },
  {
   "cell_type": "markdown",
   "metadata": {},
   "source": [
    "<font color='#FFA500'>Conclusión</font>"
   ]
  },
  {
   "cell_type": "markdown",
   "metadata": {},
   "source": [
    "El modelo desarrollado cumplió con los objetivos planteados para predecir la cancelación de clientes en telecomunicaciones. Al evaluar su rendimiento, se obtuvo un AUC-ROC final de 0.8284, lo que indica que el modelo es capaz de diferenciar con precisión a los clientes que cancelan (churn) de aquellos que no lo hacen.\n",
    "\n",
    "En el análisis detallado, el modelo destacó en la predicción de clientes que no cancelan, con un recall del 90%. Sin embargo, en la predicción de clientes que cancelan, el recall fue del 48%, lo que sugiere que hay margen para mejorar en esta clase.\n",
    "\n",
    "Aunque los resultados son sólidos y superan significativamente al modelo base (DummyClassifier), futuras mejoras podrían enfocarse en ajustar técnicas como el balanceo de clases o afinar los hiperparámetros de los modelos para priorizar el recall en la clase de churn.\n",
    "\n",
    "En resumen, este modelo proporciona una herramienta valiosa para identificar clientes en riesgo, ayudando a la empresa a implementar estrategias de retención efectivas."
   ]
  },
  {
   "cell_type": "markdown",
   "metadata": {},
   "source": [
    "# <font color='#3CB371'>Informe de solución</font>"
   ]
  },
  {
   "cell_type": "markdown",
   "metadata": {},
   "source": [
    "Todos los pasos planeados se llevaron a cabo exitosamente. Desde la carga y limpieza de datos hasta la optimización de los modelos, cada etapa se ejecutó con el objetivo de maximizar el rendimiento del modelo para predecir la cancelación de clientes. No hubo pasos omitidos, ya que todos eran fundamentales para cumplir con los objetivos planteados.\n",
    "\n",
    "El desarrollo del proyecto presentó varias dificultades que fueron superadas con éxito. Por ejemplo, el desbalance de clases fue un reto crítico, ya que la clase churn representaba una minoría significativa de los datos. Esto se abordó utilizando técnicas como el ajuste de pesos (`class_weight='balanced'`) en los modelos y optimizando hiperparámetros para maximizar el desempeño en esta clase. Además, problemas técnicos, como la instalación de librerías, se resolvieron mediante el uso de métodos integrados que no dependían de herramientas externas como SMOTE.\n",
    "\n",
    "Un aspecto crucial fue la exploración de datos inicial, que permitió identificar las variables más relevantes para el análisis. El uso de gráficos, como la distribución de churn y la matriz de correlación, ayudó a comprender mejor las relaciones entre las variables y a preparar los datos adecuadamente para el modelo. También fue importante la normalización de datos, que garantizó un entrenamiento más estable y consistente.\n",
    "\n",
    "El modelo final seleccionado fue Random Forest optimizado. Este modelo fue elegido debido a su capacidad para manejar datos complejos y su buen rendimiento general. Mostró un AUC-ROC de 0.8352 en el conjunto de prueba, lo que indica una excelente capacidad para distinguir entre clientes que cancelan y los que no. Además, alcanzó un recall del 76% para la clase churn, lo que lo hace altamente efectivo para identificar clientes en riesgo.\n",
    "\n",
    "Desde el punto de vista del negocio, estos resultados son valiosos. Identificar clientes que probablemente cancelen permite a la empresa implementar estrategias de retención personalizadas, como promociones o mejoras en el servicio. Esto no solo ayuda a reducir la tasa de cancelación, sino que también mejora la experiencia del cliente y contribuye al crecimiento sostenible de la empresa.\n",
    "\n",
    "En conclusión, este proyecto demuestra cómo el análisis de datos y el aprendizaje automático pueden abordar problemas reales del negocio. Aunque se lograron resultados sólidos, futuras iteraciones podrían explorar técnicas adicionales, como la integración de datos externos o modelos más avanzados, para seguir mejorando el desempeño y la capacidad predictiva."
   ]
  }
 ],
 "metadata": {
  "ExecuteTimeLog": [
   {
    "duration": 3,
    "start_time": "2025-01-16T16:46:05.374Z"
   },
   {
    "duration": 2712,
    "start_time": "2025-01-17T19:31:22.060Z"
   },
   {
    "duration": 2,
    "start_time": "2025-01-17T19:31:40.813Z"
   },
   {
    "duration": 523,
    "start_time": "2025-01-17T19:31:59.863Z"
   },
   {
    "duration": 4,
    "start_time": "2025-01-17T19:33:25.534Z"
   },
   {
    "duration": 60,
    "start_time": "2025-01-17T19:35:11.206Z"
   },
   {
    "duration": 10,
    "start_time": "2025-01-17T19:35:45.565Z"
   },
   {
    "duration": 5,
    "start_time": "2025-01-17T19:36:15.849Z"
   },
   {
    "duration": 996,
    "start_time": "2025-01-17T19:37:50.769Z"
   },
   {
    "duration": 3,
    "start_time": "2025-01-17T19:37:51.768Z"
   },
   {
    "duration": 4,
    "start_time": "2025-01-17T19:37:51.773Z"
   },
   {
    "duration": 2,
    "start_time": "2025-01-17T19:38:25.124Z"
   },
   {
    "duration": 160,
    "start_time": "2025-01-17T19:41:01.796Z"
   },
   {
    "duration": 10,
    "start_time": "2025-01-17T19:41:28.875Z"
   },
   {
    "duration": 192,
    "start_time": "2025-01-17T19:48:17.124Z"
   },
   {
    "duration": 64,
    "start_time": "2025-01-17T19:51:21.016Z"
   },
   {
    "duration": 52,
    "start_time": "2025-01-17T19:52:04.460Z"
   },
   {
    "duration": 3,
    "start_time": "2025-01-17T19:52:17.372Z"
   },
   {
    "duration": 2,
    "start_time": "2025-01-17T19:52:18.144Z"
   },
   {
    "duration": 34,
    "start_time": "2025-01-17T19:52:19.108Z"
   },
   {
    "duration": 50,
    "start_time": "2025-01-17T19:52:19.943Z"
   },
   {
    "duration": 3,
    "start_time": "2025-01-17T19:55:41.751Z"
   },
   {
    "duration": 3,
    "start_time": "2025-01-17T19:55:54.417Z"
   },
   {
    "duration": 66,
    "start_time": "2025-01-17T19:56:57.318Z"
   },
   {
    "duration": 32,
    "start_time": "2025-01-17T19:57:36.282Z"
   },
   {
    "duration": 36,
    "start_time": "2025-01-17T19:57:39.764Z"
   },
   {
    "duration": 32,
    "start_time": "2025-01-17T19:57:45.878Z"
   },
   {
    "duration": 6,
    "start_time": "2025-01-17T19:58:10.919Z"
   },
   {
    "duration": 3,
    "start_time": "2025-01-17T19:58:22.658Z"
   },
   {
    "duration": 4,
    "start_time": "2025-01-17T19:58:34.651Z"
   },
   {
    "duration": 7,
    "start_time": "2025-01-17T19:59:00.042Z"
   },
   {
    "duration": 19,
    "start_time": "2025-01-17T19:59:12.748Z"
   },
   {
    "duration": 10,
    "start_time": "2025-01-17T19:59:24.817Z"
   },
   {
    "duration": 15,
    "start_time": "2025-01-17T19:59:35.459Z"
   },
   {
    "duration": 87,
    "start_time": "2025-01-17T19:59:55.851Z"
   },
   {
    "duration": 456,
    "start_time": "2025-01-17T20:00:09.482Z"
   },
   {
    "duration": 4,
    "start_time": "2025-01-17T20:00:29.045Z"
   },
   {
    "duration": 8,
    "start_time": "2025-01-17T20:00:48.265Z"
   },
   {
    "duration": 8,
    "start_time": "2025-01-17T20:00:56.871Z"
   },
   {
    "duration": 9,
    "start_time": "2025-01-17T20:01:07.682Z"
   },
   {
    "duration": 8,
    "start_time": "2025-01-17T20:03:35.765Z"
   },
   {
    "duration": 27,
    "start_time": "2025-01-17T20:03:56.369Z"
   },
   {
    "duration": 404,
    "start_time": "2025-01-17T20:05:41.660Z"
   },
   {
    "duration": 408,
    "start_time": "2025-01-17T20:14:24.914Z"
   },
   {
    "duration": 4,
    "start_time": "2025-01-17T20:15:19.724Z"
   },
   {
    "duration": 9,
    "start_time": "2025-01-17T20:15:38.290Z"
   }
  ],
  "kernelspec": {
   "display_name": "Python 3 (ipykernel)",
   "language": "python",
   "name": "python3"
  },
  "language_info": {
   "codemirror_mode": {
    "name": "ipython",
    "version": 3
   },
   "file_extension": ".py",
   "mimetype": "text/x-python",
   "name": "python",
   "nbconvert_exporter": "python",
   "pygments_lexer": "ipython3",
   "version": "3.9.19"
  },
  "toc": {
   "base_numbering": 1,
   "nav_menu": {},
   "number_sections": true,
   "sideBar": true,
   "skip_h1_title": true,
   "title_cell": "Table of Contents",
   "title_sidebar": "Contents",
   "toc_cell": false,
   "toc_position": {},
   "toc_section_display": true,
   "toc_window_display": false
  }
 },
 "nbformat": 4,
 "nbformat_minor": 2
}
